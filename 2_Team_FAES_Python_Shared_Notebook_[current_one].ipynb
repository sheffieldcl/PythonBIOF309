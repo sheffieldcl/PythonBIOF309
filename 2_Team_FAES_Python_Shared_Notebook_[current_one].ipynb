{
  "nbformat": 4,
  "nbformat_minor": 0,
  "metadata": {
    "colab": {
      "name": "2 Team FAES Python Shared Notebook [current one].ipynb",
      "provenance": [],
      "include_colab_link": true
    },
    "kernelspec": {
      "name": "python3",
      "display_name": "Python 3"
    },
    "language_info": {
      "name": "python"
    }
  },
  "cells": [
    {
      "cell_type": "markdown",
      "metadata": {
        "id": "view-in-github",
        "colab_type": "text"
      },
      "source": [
        "<a href=\"https://colab.research.google.com/github/sheffieldcl/PythonBIOF309/blob/main/2_Team_FAES_Python_Shared_Notebook_%5Bcurrent_one%5D.ipynb\" target=\"_parent\"><img src=\"https://colab.research.google.com/assets/colab-badge.svg\" alt=\"Open In Colab\"/></a>"
      ]
    },
    {
      "cell_type": "markdown",
      "source": [
        "Remaining group members to write script for Cynthia to read"
      ],
      "metadata": {
        "id": "Y8rm7GTVJj00"
      }
    },
    {
      "cell_type": "code",
      "execution_count": null,
      "metadata": {
        "id": "vCfvAXuEJM7O"
      },
      "outputs": [],
      "source": [
        "T#1 Cynthia 2. Hyun 3. Santi 4. Santi 5. Hyun 6. Cynthia\n",
        "#What is the likelihood of getting lung cancer from a) smoking b) pesticides c) both\n",
        "Other groups: write script for Cynthia to read for the video recording\n",
        "# Data link\n",
        "# https://figshare.com/articles/dataset/Pesticide_and_lung_cancer/12356270?file=26424602\n",
        " \n"
      ]
    },
    {
      "cell_type": "markdown",
      "source": [
        ""
      ],
      "metadata": {
        "id": "V-N7kiQkRBR2"
      }
    },
    {
      "cell_type": "code",
      "source": [
        "###Team 2's Project will look at data from Figshare that examines the event of having lung cancer if a subject has been exposed to smoking or the use of Gephosate.\n",
        "# Look at data sets and combine them\n",
        "list = os.listdir(path)\n",
        "\n"
      ],
      "metadata": {
        "colab": {
          "base_uri": "https://localhost:8080/",
          "height": 252
        },
        "id": "PvSOuuZETYjy",
        "outputId": "8ab0dbcf-9095-43bc-ddcd-69d630cc3f1d"
      },
      "execution_count": 1,
      "outputs": [
        {
          "output_type": "error",
          "ename": "NameError",
          "evalue": "ignored",
          "traceback": [
            "\u001b[0;31m---------------------------------------------------------------------------\u001b[0m",
            "\u001b[0;31mNameError\u001b[0m                                 Traceback (most recent call last)",
            "\u001b[0;32m<ipython-input-1-6fa8b1de5559>\u001b[0m in \u001b[0;36m<module>\u001b[0;34m()\u001b[0m\n\u001b[1;32m      1\u001b[0m \u001b[0;31m###Team 2's Project will look at data from Figshare that examines the event of having lung cancer if a subject has been exposed to smoking or the use of Gephosate.\u001b[0m\u001b[0;34m\u001b[0m\u001b[0;34m\u001b[0m\u001b[0;34m\u001b[0m\u001b[0m\n\u001b[1;32m      2\u001b[0m \u001b[0;31m# Look at data sets and combine them\u001b[0m\u001b[0;34m\u001b[0m\u001b[0;34m\u001b[0m\u001b[0;34m\u001b[0m\u001b[0m\n\u001b[0;32m----> 3\u001b[0;31m \u001b[0mlist\u001b[0m \u001b[0;34m=\u001b[0m \u001b[0mos\u001b[0m\u001b[0;34m.\u001b[0m\u001b[0mlistdir\u001b[0m\u001b[0;34m(\u001b[0m\u001b[0mpath\u001b[0m\u001b[0;34m)\u001b[0m\u001b[0;34m\u001b[0m\u001b[0;34m\u001b[0m\u001b[0m\n\u001b[0m\u001b[1;32m      4\u001b[0m \u001b[0;34m\u001b[0m\u001b[0m\n",
            "\u001b[0;31mNameError\u001b[0m: name 'os' is not defined"
          ]
        }
      ]
    },
    {
      "cell_type": "markdown",
      "source": [
        ""
      ],
      "metadata": {
        "id": "y1T0-7J0akMO"
      }
    },
    {
      "cell_type": "code",
      "source": [
        ""
      ],
      "metadata": {
        "id": "RbkMcSL_fJ2u"
      },
      "execution_count": null,
      "outputs": []
    },
    {
      "cell_type": "markdown",
      "source": [
        "#1 Cynthia"
      ],
      "metadata": {
        "id": "QP9iRU8CalTW"
      }
    },
    {
      "cell_type": "code",
      "source": [
        "#1 Cynthia"
      ],
      "metadata": {
        "id": "iaaTphthJnps"
      },
      "execution_count": null,
      "outputs": []
    },
    {
      "cell_type": "markdown",
      "source": [
        "#2 Hyun"
      ],
      "metadata": {
        "id": "id7zBVzpai41"
      }
    },
    {
      "cell_type": "code",
      "source": [
        "#2 Hyun\n",
        "\n",
        "\n",
        "print(\"Hello class! Let's examine data on lung cancer and pesticides\")  \n",
        "\n",
        "#data mount\n",
        "\n",
        "import os\n",
        "from google.colab import drive\n",
        "drive.mount('/content/drive/')\n",
        "os.chdir(\"/content/drive/My Drive/2FAES_Python\")\n",
        "\n",
        "# Brackets\n",
        "causes = ['genetics',\n",
        "          'SES',\n",
        "          'carcinogens']\n",
        "\n",
        " \n",
        "print(causes)\n",
        "\n",
        "\n",
        "for i in range(0,11):\n",
        "    print(i)\n",
        "    \n",
        "\n",
        "\n",
        " \n",
        "\n"
      ],
      "metadata": {
        "id": "s-sxCM02JTvr",
        "colab": {
          "base_uri": "https://localhost:8080/",
          "height": 291
        },
        "outputId": "ba46e527-ce0e-4cef-abb9-44a42abe83ca"
      },
      "execution_count": null,
      "outputs": [
        {
          "output_type": "stream",
          "name": "stdout",
          "text": [
            "Hello class! Let's examine data on lung cancer and pesticides\n",
            "Drive already mounted at /content/drive/; to attempt to forcibly remount, call drive.mount(\"/content/drive/\", force_remount=True).\n"
          ]
        },
        {
          "output_type": "error",
          "ename": "FileNotFoundError",
          "evalue": "ignored",
          "traceback": [
            "\u001b[0;31m---------------------------------------------------------------------------\u001b[0m",
            "\u001b[0;31mFileNotFoundError\u001b[0m                         Traceback (most recent call last)",
            "\u001b[0;32m<ipython-input-45-cbb7eccc192a>\u001b[0m in \u001b[0;36m<module>\u001b[0;34m()\u001b[0m\n\u001b[1;32m      9\u001b[0m \u001b[0;32mfrom\u001b[0m \u001b[0mgoogle\u001b[0m\u001b[0;34m.\u001b[0m\u001b[0mcolab\u001b[0m \u001b[0;32mimport\u001b[0m \u001b[0mdrive\u001b[0m\u001b[0;34m\u001b[0m\u001b[0;34m\u001b[0m\u001b[0m\n\u001b[1;32m     10\u001b[0m \u001b[0mdrive\u001b[0m\u001b[0;34m.\u001b[0m\u001b[0mmount\u001b[0m\u001b[0;34m(\u001b[0m\u001b[0;34m'/content/drive/'\u001b[0m\u001b[0;34m)\u001b[0m\u001b[0;34m\u001b[0m\u001b[0;34m\u001b[0m\u001b[0m\n\u001b[0;32m---> 11\u001b[0;31m \u001b[0mos\u001b[0m\u001b[0;34m.\u001b[0m\u001b[0mchdir\u001b[0m\u001b[0;34m(\u001b[0m\u001b[0;34m\"/content/drive/My Drive/2FAES_Python\"\u001b[0m\u001b[0;34m)\u001b[0m\u001b[0;34m\u001b[0m\u001b[0;34m\u001b[0m\u001b[0m\n\u001b[0m\u001b[1;32m     12\u001b[0m \u001b[0;34m\u001b[0m\u001b[0m\n\u001b[1;32m     13\u001b[0m \u001b[0;31m# Brackets\u001b[0m\u001b[0;34m\u001b[0m\u001b[0;34m\u001b[0m\u001b[0;34m\u001b[0m\u001b[0m\n",
            "\u001b[0;31mFileNotFoundError\u001b[0m: [Errno 2] No such file or directory: '/content/drive/My Drive/2FAES_Python'"
          ]
        }
      ]
    },
    {
      "cell_type": "markdown",
      "source": [
        "#3 Santiago"
      ],
      "metadata": {
        "id": "J4MXpum0Zo0u"
      }
    },
    {
      "cell_type": "code",
      "source": [
        "#3 Santiago"
      ],
      "metadata": {
        "id": "YdnXwY3AJUnb"
      },
      "execution_count": null,
      "outputs": []
    },
    {
      "cell_type": "code",
      "source": [
        "#4 Santiago"
      ],
      "metadata": {
        "id": "Ha68xOe8JVPs"
      },
      "execution_count": null,
      "outputs": []
    },
    {
      "cell_type": "markdown",
      "source": [
        ""
      ],
      "metadata": {
        "id": "f_skKMZ0aqhS"
      }
    },
    {
      "cell_type": "markdown",
      "source": [
        "#5 Hyun"
      ],
      "metadata": {
        "id": "tTLLco5BasY4"
      }
    },
    {
      "cell_type": "code",
      "source": [
        "#5 Hyun\n",
        "\n"
      ],
      "metadata": {
        "id": "9cZsiiKSJWQg"
      },
      "execution_count": null,
      "outputs": []
    },
    {
      "cell_type": "code",
      "source": [
        "#6 Cynthia"
      ],
      "metadata": {
        "id": "JYa-wAAjJXHU"
      },
      "execution_count": null,
      "outputs": []
    }
  ]
}