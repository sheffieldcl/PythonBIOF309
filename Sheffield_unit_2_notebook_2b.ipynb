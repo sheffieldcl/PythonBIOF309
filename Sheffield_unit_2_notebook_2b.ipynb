{
  "nbformat": 4,
  "nbformat_minor": 0,
  "metadata": {
    "colab": {
      "name": "SaraB_unit_2_notebook_2b.ipynb",
      "provenance": [],
      "collapsed_sections": [
        "wxbBn9dRqUzJ",
        "2aYrQJ3sqeyY",
        "8jmiJDlcq2wa",
        "Z1Ma26-wrLhL",
        "HK1bZqF5sBSC",
        "5nUnT7QHsox6",
        "v0NnDxMoMUr0",
        "NT_iFkB-MWan",
        "m3N5THK1MXFG",
        "ffYKCCsiMXbc"
      ],
      "include_colab_link": true
    },
    "kernelspec": {
      "name": "python3",
      "display_name": "Python 3"
    }
  },
  "cells": [
    {
      "cell_type": "markdown",
      "metadata": {
        "id": "view-in-github",
        "colab_type": "text"
      },
      "source": [
        "<a href=\"https://colab.research.google.com/github/sheffieldcl/PythonBIOF309/blob/main/Sheffield_unit_2_notebook_2b.ipynb\" target=\"_parent\"><img src=\"https://colab.research.google.com/assets/colab-badge.svg\" alt=\"Open In Colab\"/></a>"
      ]
    },
    {
      "cell_type": "markdown",
      "metadata": {
        "id": "lwuTCUVlJeY6"
      },
      "source": [
        "# Unit 2 - Instructional DEMO 2b: Python semantics.\n",
        " - **Focus:** Basic python semantics. \n",
        " - **Author(s):** Sara B-C.\n",
        " - **Date Notebook Last Modified:** 08.10.2020\n",
        " - **Quick Description:** Use this notebook to learn pyton semantics. We'll cover everything from assignments to operators in this. In the beginning, just hit play at each cell and watch things work. Once you are done, you can download the finished results. **There are some exercises to complete at the end!**\n",
        "\n",
        "---\n",
        "## Code outline\n",
        "  0. Set up file stream (yep, this is in every notebook).\n",
        "  1. Simple variable assignment.\n",
        "  2. Multiple variable assignment.\n",
        "  3. Basic math (arithmetic operations).   \n",
        "  4. Comparison operators.\n",
        "  5. Logical operators.\n",
        "  6. Identity operators.\n",
        "  7. Membership operators.\n",
        "  8. Combine strings and paste.\n",
        "  9. How to fail with data types.\n",
        "  10. Example of future useful code.\n",
        "\n",
        "---\n",
        "## Additional notes\n",
        "*   This semantics unit is foundationally key to future more complicated work in data manipulation and exploration as well as flow control and data analysis."
      ]
    },
    {
      "cell_type": "markdown",
      "metadata": {
        "id": "XuUnubnFH9xZ"
      },
      "source": [
        "## 0. Lets set up filestream access\n",
        "Follow the directions on screen as you run the code cell below and then you can access the data stored on your 'My Drive'. For many of you, this is the first python code you will ever execute knowingly, as most google infrastructure is python based (another reason why the language is growing)..You did this before, let's go!"
      ]
    },
    {
      "cell_type": "code",
      "metadata": {
        "id": "D2qRSmw3GUNA",
        "colab": {
          "base_uri": "https://localhost:8080/"
        },
        "outputId": "038da380-9674-4e38-f869-187d56b5005d"
      },
      "source": [
        "import os\n",
        "from google.colab import drive\n",
        "drive.mount('/content/drive/')\n",
        "os.chdir(\"/content/drive/My Drive/FAES_BIOF309/\")"
      ],
      "execution_count": null,
      "outputs": [
        {
          "output_type": "stream",
          "name": "stdout",
          "text": [
            "Drive already mounted at /content/drive/; to attempt to forcibly remount, call drive.mount(\"/content/drive/\", force_remount=True).\n"
          ]
        }
      ]
    },
    {
      "cell_type": "markdown",
      "metadata": {
        "id": "mITVzECaO2j6"
      },
      "source": [
        "Above you should now see the output \"Mounted at /content/drive/\". This means your storage is now connected to your notebook and its runtime. A runtime is the computer it will use to execute code and other computations. We'll cover what the above code means once you have learned some more python."
      ]
    },
    {
      "cell_type": "markdown",
      "metadata": {
        "id": "GD8TX9ZoUxd5"
      },
      "source": [
        "## 1. Simple variable assignment.\n"
      ]
    },
    {
      "cell_type": "code",
      "metadata": {
        "id": "RHliNCrvVAkc",
        "colab": {
          "base_uri": "https://localhost:8080/"
        },
        "outputId": "e1e50f6e-5bd5-434c-aa13-98e0f03961ee"
      },
      "source": [
        "a = 2\n",
        "x = 3\n",
        "c = a*x\n",
        "\n",
        "print(a)\n",
        "print(x)\n",
        "print(c)"
      ],
      "execution_count": null,
      "outputs": [
        {
          "output_type": "stream",
          "name": "stdout",
          "text": [
            "2\n",
            "3\n",
            "6\n"
          ]
        }
      ]
    },
    {
      "cell_type": "markdown",
      "metadata": {
        "id": "cIO-6lW3aMhn"
      },
      "source": [
        "## 2. Multiple variable assignment.\n",
        "An example of how efficient you can be with python.\n",
        "\n"
      ]
    },
    {
      "cell_type": "code",
      "metadata": {
        "id": "jnT8f_uefYCK",
        "colab": {
          "base_uri": "https://localhost:8080/"
        },
        "outputId": "da679ce3-42c7-47d5-8871-99fd833c1006"
      },
      "source": [
        "a = x = c = 3\n",
        "d = a*x*c\n",
        "print(a)\n",
        "print(x)\n",
        "print(c)\n",
        "print(d)"
      ],
      "execution_count": null,
      "outputs": [
        {
          "output_type": "stream",
          "name": "stdout",
          "text": [
            "3\n",
            "3\n",
            "3\n",
            "27\n"
          ]
        }
      ]
    },
    {
      "cell_type": "markdown",
      "metadata": {
        "id": "POhPV15zi9ZO"
      },
      "source": [
        "## 3. Basic math (arithmetic operations).\n"
      ]
    },
    {
      "cell_type": "markdown",
      "metadata": {
        "id": "i31CTDpMOhu8"
      },
      "source": [
        "Let's make some basic variables."
      ]
    },
    {
      "cell_type": "code",
      "metadata": {
        "id": "S87iYItTjMeS"
      },
      "source": [
        "a = 5\n",
        "b = 2\n",
        "c = 3"
      ],
      "execution_count": null,
      "outputs": []
    },
    {
      "cell_type": "markdown",
      "metadata": {
        "id": "Q7li_Ob8Ohh1"
      },
      "source": [
        "We assuming you know the basics of addition `+`, subtraction `-`, multiplication `*` and division `/`. Note, division `/` is not the same as what you would use to continue a statement to a new line `\\`, they go in different directions.  \n",
        "Lets cover a few arithmetic operations that are useful but not as common."
      ]
    },
    {
      "cell_type": "code",
      "metadata": {
        "id": "Ae-rjlKGPcVB",
        "colab": {
          "base_uri": "https://localhost:8080/"
        },
        "outputId": "8c617caa-b667-4213-8d22-ec5e071da4b5"
      },
      "source": [
        "# Modulus returns the remainder\n",
        "c % b"
      ],
      "execution_count": null,
      "outputs": [
        {
          "output_type": "execute_result",
          "data": {
            "text/plain": [
              "1"
            ]
          },
          "metadata": {},
          "execution_count": 6
        }
      ]
    },
    {
      "cell_type": "code",
      "metadata": {
        "id": "LiCt4DSYPzXP",
        "colab": {
          "base_uri": "https://localhost:8080/"
        },
        "outputId": "b42dff27-7f8c-47fa-ddd9-eafcd2a4e140"
      },
      "source": [
        "# Exponents, not a ^ like in R\n",
        "c**b"
      ],
      "execution_count": null,
      "outputs": [
        {
          "output_type": "execute_result",
          "data": {
            "text/plain": [
              "9"
            ]
          },
          "metadata": {},
          "execution_count": 7
        }
      ]
    },
    {
      "cell_type": "markdown",
      "metadata": {
        "id": "JCZ1RMiWkW_3"
      },
      "source": [
        "## 4. Comparison operators.\n"
      ]
    },
    {
      "cell_type": "code",
      "metadata": {
        "id": "mwGA2Gbekj-D"
      },
      "source": [
        "# Set some variables.\n",
        "x = 10\n",
        "y = 5\n",
        "z = 5"
      ],
      "execution_count": null,
      "outputs": []
    },
    {
      "cell_type": "code",
      "metadata": {
        "id": "dqYqEZa0RJfZ",
        "colab": {
          "base_uri": "https://localhost:8080/"
        },
        "outputId": "1c5c7020-240a-4a3f-9787-7e6573d9e8e5"
      },
      "source": [
        "# Are x and y equal?\n",
        "x == y"
      ],
      "execution_count": null,
      "outputs": [
        {
          "output_type": "execute_result",
          "data": {
            "text/plain": [
              "False"
            ]
          },
          "metadata": {},
          "execution_count": 9
        }
      ]
    },
    {
      "cell_type": "code",
      "metadata": {
        "id": "Pj7G6HZqRbrq",
        "colab": {
          "base_uri": "https://localhost:8080/"
        },
        "outputId": "3cd1b042-bfdb-4da5-a57f-b7a968aaf665"
      },
      "source": [
        "# Is x greater than y?\n",
        "x > y"
      ],
      "execution_count": null,
      "outputs": [
        {
          "output_type": "execute_result",
          "data": {
            "text/plain": [
              "True"
            ]
          },
          "metadata": {},
          "execution_count": 10
        }
      ]
    },
    {
      "cell_type": "code",
      "metadata": {
        "id": "a5MA6nMuRgXb",
        "colab": {
          "base_uri": "https://localhost:8080/"
        },
        "outputId": "ebcd67f0-7d86-4b82-82d9-f549bd9fff5c"
      },
      "source": [
        "# Is x not equal to z?\n",
        "x != z"
      ],
      "execution_count": null,
      "outputs": [
        {
          "output_type": "execute_result",
          "data": {
            "text/plain": [
              "True"
            ]
          },
          "metadata": {},
          "execution_count": 11
        }
      ]
    },
    {
      "cell_type": "code",
      "metadata": {
        "id": "DU5iYiLIRtKj",
        "colab": {
          "base_uri": "https://localhost:8080/"
        },
        "outputId": "cf49b89c-9452-426f-f7d5-f950617ca971"
      },
      "source": [
        "# Is y greater than or equal to z?\n",
        "y >= z"
      ],
      "execution_count": null,
      "outputs": [
        {
          "output_type": "execute_result",
          "data": {
            "text/plain": [
              "True"
            ]
          },
          "metadata": {},
          "execution_count": 12
        }
      ]
    },
    {
      "cell_type": "markdown",
      "metadata": {
        "id": "dk_AdyrqnhO8"
      },
      "source": [
        "## 5. Logical operators.\n",
        "Great for compound criteria.\n"
      ]
    },
    {
      "cell_type": "code",
      "metadata": {
        "id": "LDXWIAylnvJz"
      },
      "source": [
        "# Lets use the same variables\n",
        "x = 10\n",
        "y = 5\n",
        "z = 5"
      ],
      "execution_count": null,
      "outputs": []
    },
    {
      "cell_type": "code",
      "metadata": {
        "id": "bFasl4n2ScTL",
        "colab": {
          "base_uri": "https://localhost:8080/"
        },
        "outputId": "7bf47585-164f-4e0a-d43c-1bda4c636355"
      },
      "source": [
        "# Does x = 10 and y + z = 10?\n",
        "(x == 10) and (y + z == 10)"
      ],
      "execution_count": null,
      "outputs": [
        {
          "output_type": "execute_result",
          "data": {
            "text/plain": [
              "True"
            ]
          },
          "metadata": {},
          "execution_count": 14
        }
      ]
    },
    {
      "cell_type": "code",
      "metadata": {
        "id": "yD_StY1GS7eu",
        "colab": {
          "base_uri": "https://localhost:8080/"
        },
        "outputId": "f18ffdf7-ea8b-4cee-d680-fae552418db4"
      },
      "source": [
        "# But what about this?\n",
        "(x == 9) or (y + z == 10)"
      ],
      "execution_count": null,
      "outputs": [
        {
          "output_type": "execute_result",
          "data": {
            "text/plain": [
              "True"
            ]
          },
          "metadata": {},
          "execution_count": 15
        }
      ]
    },
    {
      "cell_type": "markdown",
      "metadata": {
        "id": "coBc73IXTCPT"
      },
      "source": [
        "Remember, there are certain words that can't be set as objects for reasons like these."
      ]
    },
    {
      "cell_type": "markdown",
      "metadata": {
        "id": "k_CjE9ogKnD3"
      },
      "source": [
        "## 6. Identity operators."
      ]
    },
    {
      "cell_type": "code",
      "metadata": {
        "id": "akMTAt0jLN2R"
      },
      "source": [
        "# Make a list.\n",
        "colors = ['red', 'blue', 'green']"
      ],
      "execution_count": null,
      "outputs": []
    },
    {
      "cell_type": "code",
      "metadata": {
        "id": "xr387UgSTlSx",
        "colab": {
          "base_uri": "https://localhost:8080/"
        },
        "outputId": "24083870-ecae-4352-c3be-7b2a58152465"
      },
      "source": [
        "# Is this a list data type?\n",
        "type(colors) is list"
      ],
      "execution_count": null,
      "outputs": [
        {
          "output_type": "execute_result",
          "data": {
            "text/plain": [
              "True"
            ]
          },
          "metadata": {},
          "execution_count": 17
        }
      ]
    },
    {
      "cell_type": "code",
      "metadata": {
        "id": "d41jLO9cVdrE",
        "colab": {
          "base_uri": "https://localhost:8080/"
        },
        "outputId": "2e92f16b-0198-43c0-e3b4-3a7a445f5fed"
      },
      "source": [
        "# Is this not a list?\n",
        "type(colors) is not list"
      ],
      "execution_count": null,
      "outputs": [
        {
          "output_type": "execute_result",
          "data": {
            "text/plain": [
              "False"
            ]
          },
          "metadata": {},
          "execution_count": 18
        }
      ]
    },
    {
      "cell_type": "markdown",
      "metadata": {
        "id": "RvZ1wUpoNnZ-"
      },
      "source": [
        "## 7. Membership operators.\n"
      ]
    },
    {
      "cell_type": "code",
      "metadata": {
        "id": "i7smJIMsN0r_",
        "colab": {
          "base_uri": "https://localhost:8080/"
        },
        "outputId": "ad9d33b8-c44d-4243-e03c-2cac75e6a634"
      },
      "source": [
        "# Using the colors list, check if 'red' is in the list.\n",
        "'red' in colors"
      ],
      "execution_count": null,
      "outputs": [
        {
          "output_type": "execute_result",
          "data": {
            "text/plain": [
              "True"
            ]
          },
          "metadata": {},
          "execution_count": 19
        }
      ]
    },
    {
      "cell_type": "code",
      "metadata": {
        "id": "hgLxIB4vXGWF",
        "colab": {
          "base_uri": "https://localhost:8080/"
        },
        "outputId": "70c900b3-5262-4b27-8ca8-7650817b9a3e"
      },
      "source": [
        "# Maybe red is not in the colors list?\n",
        "'red' not in colors"
      ],
      "execution_count": null,
      "outputs": [
        {
          "output_type": "execute_result",
          "data": {
            "text/plain": [
              "False"
            ]
          },
          "metadata": {},
          "execution_count": 20
        }
      ]
    },
    {
      "cell_type": "markdown",
      "metadata": {
        "id": "VpSIwc4eTaBb"
      },
      "source": [
        "## 8. Combine strings and paste."
      ]
    },
    {
      "cell_type": "code",
      "metadata": {
        "id": "J9JZWaN3TaYO"
      },
      "source": [
        "a = \"python\"\n",
        "b = \" \"\n",
        "c = \"is fun\""
      ],
      "execution_count": null,
      "outputs": []
    },
    {
      "cell_type": "code",
      "metadata": {
        "id": "y3KCyNnqXc5L",
        "colab": {
          "base_uri": "https://localhost:8080/",
          "height": 36
        },
        "outputId": "61d8ffc6-bf9d-4bcc-b95c-47d3a693d26a"
      },
      "source": [
        "a + b + c"
      ],
      "execution_count": null,
      "outputs": [
        {
          "output_type": "execute_result",
          "data": {
            "text/plain": [
              "'python is fun'"
            ],
            "application/vnd.google.colaboratory.intrinsic+json": {
              "type": "string"
            }
          },
          "metadata": {},
          "execution_count": 22
        }
      ]
    },
    {
      "cell_type": "code",
      "metadata": {
        "id": "JW0T-ZswX6wP",
        "colab": {
          "base_uri": "https://localhost:8080/",
          "height": 36
        },
        "outputId": "d641397b-c755-47b4-eadf-9deac6e117fa"
      },
      "source": [
        "# Some more advances examples you will get details on later.\n",
        "\"%s sometimes %s.\" % (a, c)"
      ],
      "execution_count": null,
      "outputs": [
        {
          "output_type": "execute_result",
          "data": {
            "text/plain": [
              "'python sometimes is fun.'"
            ],
            "application/vnd.google.colaboratory.intrinsic+json": {
              "type": "string"
            }
          },
          "metadata": {},
          "execution_count": 23
        }
      ]
    },
    {
      "cell_type": "markdown",
      "metadata": {
        "id": "G5cHXrPGTauC"
      },
      "source": [
        "## 9.  How to fail with data types."
      ]
    },
    {
      "cell_type": "code",
      "metadata": {
        "id": "RRoKXtS7Ta7q",
        "colab": {
          "base_uri": "https://localhost:8080/"
        },
        "outputId": "c7dce41a-e3e9-4adc-caae-fd2693411837"
      },
      "source": [
        "# Combine and integer with a float is okay.\n",
        "1 + 4.5"
      ],
      "execution_count": null,
      "outputs": [
        {
          "output_type": "execute_result",
          "data": {
            "text/plain": [
              "5.5"
            ]
          },
          "metadata": {},
          "execution_count": 24
        }
      ]
    },
    {
      "cell_type": "code",
      "metadata": {
        "id": "gvBZRJwaaXPz",
        "colab": {
          "base_uri": "https://localhost:8080/",
          "height": 200
        },
        "outputId": "1d084ab0-f107-4b02-b42b-c8dc52fe40ca"
      },
      "source": [
        "# Combine an integer or float with a string, you get an error.\n",
        "a = \"this_String\"\n",
        "a + 1"
      ],
      "execution_count": null,
      "outputs": [
        {
          "output_type": "error",
          "ename": "TypeError",
          "evalue": "ignored",
          "traceback": [
            "\u001b[0;31m---------------------------------------------------------------------------\u001b[0m",
            "\u001b[0;31mTypeError\u001b[0m                                 Traceback (most recent call last)",
            "\u001b[0;32m<ipython-input-25-900b7e3b367a>\u001b[0m in \u001b[0;36m<module>\u001b[0;34m()\u001b[0m\n\u001b[1;32m      1\u001b[0m \u001b[0;31m# Combine an integer or float with a string, you get an error.\u001b[0m\u001b[0;34m\u001b[0m\u001b[0;34m\u001b[0m\u001b[0;34m\u001b[0m\u001b[0m\n\u001b[1;32m      2\u001b[0m \u001b[0ma\u001b[0m \u001b[0;34m=\u001b[0m \u001b[0;34m\"this_String\"\u001b[0m\u001b[0;34m\u001b[0m\u001b[0;34m\u001b[0m\u001b[0m\n\u001b[0;32m----> 3\u001b[0;31m \u001b[0ma\u001b[0m \u001b[0;34m+\u001b[0m \u001b[0;36m1\u001b[0m\u001b[0;34m\u001b[0m\u001b[0;34m\u001b[0m\u001b[0m\n\u001b[0m",
            "\u001b[0;31mTypeError\u001b[0m: can only concatenate str (not \"int\") to str"
          ]
        }
      ]
    },
    {
      "cell_type": "code",
      "metadata": {
        "id": "MQHkwkvNalpa",
        "colab": {
          "base_uri": "https://localhost:8080/"
        },
        "outputId": "38c90d53-2ca1-4cb0-c98e-6676a1f6d6cd"
      },
      "source": [
        "# But if \"a\" actually represents a float or integer, you are okay!\n",
        "a = 9.5\n",
        "a + 1"
      ],
      "execution_count": null,
      "outputs": [
        {
          "output_type": "execute_result",
          "data": {
            "text/plain": [
              "10.5"
            ]
          },
          "metadata": {},
          "execution_count": 26
        }
      ]
    },
    {
      "cell_type": "markdown",
      "metadata": {
        "id": "mGsBiskVT0Zu"
      },
      "source": [
        "## 10. Example of future useful code."
      ]
    },
    {
      "cell_type": "code",
      "metadata": {
        "id": "fzGqV8LPT2mf",
        "colab": {
          "base_uri": "https://localhost:8080/"
        },
        "outputId": "4cd9dd8c-303b-475d-fae2-9e895eebc23e"
      },
      "source": [
        "list1 = [1, 2, 3, 4, 5, 6, 7]\n",
        "list2 = [5, 6, 7, 8, 9, 10]\n",
        "\n",
        "def intersection(list1, list2): \n",
        "    list3 = [value for value in list1 if value in list2] \n",
        "    return list3 \n",
        "\n",
        "print(intersection(list1, list2)) # Printing the intersection of the two lists."
      ],
      "execution_count": null,
      "outputs": [
        {
          "output_type": "stream",
          "name": "stdout",
          "text": [
            "[5, 6, 7]\n"
          ]
        }
      ]
    },
    {
      "cell_type": "markdown",
      "metadata": {
        "id": "p_oU-yokpSTX"
      },
      "source": [
        "**Makes sense, now on to some exercises ...**"
      ]
    },
    {
      "cell_type": "markdown",
      "metadata": {
        "id": "GvJ8ZwG7pn0K"
      },
      "source": [
        "# Unit 2 : Assignment # 2b\n",
        "***Come here to prove your knowledge.***\n",
        "\n",
        "Text cells will indicate a task.  \n",
        "Write your commands in the empty code cells below them."
      ]
    },
    {
      "cell_type": "markdown",
      "metadata": {
        "id": "wxbBn9dRqUzJ"
      },
      "source": [
        "## 1. Assign a variable."
      ]
    },
    {
      "cell_type": "code",
      "metadata": {
        "id": "ELzciBM8qVKJ"
      },
      "source": [
        "a = 5\n"
      ],
      "execution_count": null,
      "outputs": []
    },
    {
      "cell_type": "markdown",
      "metadata": {
        "id": "2aYrQJ3sqeyY"
      },
      "source": [
        "## 2. Demonstrate simultaneous assignment of multiple variables in a single line."
      ]
    },
    {
      "cell_type": "code",
      "metadata": {
        "id": "9IqnLYX9q1_f",
        "colab": {
          "base_uri": "https://localhost:8080/"
        },
        "outputId": "540e173a-6987-4df0-fa09-3676911391e3"
      },
      "source": [
        "a,b,c = 1, 2, 3\n",
        "print (a)\n",
        "print (b)\n",
        "print (c)\n",
        "\n"
      ],
      "execution_count": null,
      "outputs": [
        {
          "output_type": "stream",
          "name": "stdout",
          "text": [
            "1\n",
            "2\n",
            "3\n"
          ]
        }
      ]
    },
    {
      "cell_type": "markdown",
      "metadata": {
        "id": "8jmiJDlcq2wa"
      },
      "source": [
        "## 3. Use an exponent."
      ]
    },
    {
      "cell_type": "code",
      "metadata": {
        "id": "FOBJ2pQdrJu-",
        "colab": {
          "base_uri": "https://localhost:8080/"
        },
        "outputId": "09c0cbf5-185b-42fb-f1aa-ae844e24ef1c"
      },
      "source": [
        "5**2"
      ],
      "execution_count": null,
      "outputs": [
        {
          "output_type": "execute_result",
          "data": {
            "text/plain": [
              "25"
            ]
          },
          "metadata": {},
          "execution_count": 5
        }
      ]
    },
    {
      "cell_type": "markdown",
      "metadata": {
        "id": "Z1Ma26-wrLhL"
      },
      "source": [
        "## 4. Test if two variables are not equal to each other."
      ]
    },
    {
      "cell_type": "code",
      "metadata": {
        "id": "rNgJSh9PsAp0",
        "colab": {
          "base_uri": "https://localhost:8080/"
        },
        "outputId": "f07ef1e4-d155-4fac-cb18-3d9564e803c6"
      },
      "source": [
        "a >= b"
      ],
      "execution_count": null,
      "outputs": [
        {
          "output_type": "execute_result",
          "data": {
            "text/plain": [
              "False"
            ]
          },
          "metadata": {},
          "execution_count": 39
        }
      ]
    },
    {
      "cell_type": "markdown",
      "metadata": {
        "id": "HK1bZqF5sBSC"
      },
      "source": [
        "## 5. Make an `and` statement."
      ]
    },
    {
      "cell_type": "code",
      "metadata": {
        "id": "r8u8qObJsoc1",
        "colab": {
          "base_uri": "https://localhost:8080/",
          "height": 130
        },
        "outputId": "06262d7b-96c5-445a-d37a-cf7a8e5b2d53"
      },
      "source": [
        "###Check value within range of two parameters\n",
        "x = 5\n",
        "x >= 0 and x <= 10\n",
        "\n",
        "\n",
        "\n",
        "\n",
        "\n",
        "\n",
        " \n",
        "\n",
        "\n",
        "\n",
        "\n",
        "\n",
        "\n",
        "\n"
      ],
      "execution_count": null,
      "outputs": [
        {
          "output_type": "error",
          "ename": "SyntaxError",
          "evalue": "ignored",
          "traceback": [
            "\u001b[0;36m  File \u001b[0;32m\"<ipython-input-104-48a3375f1171>\"\u001b[0;36m, line \u001b[0;32m1\u001b[0m\n\u001b[0;31m    Check value within range of two parameters\u001b[0m\n\u001b[0m              ^\u001b[0m\n\u001b[0;31mSyntaxError\u001b[0m\u001b[0;31m:\u001b[0m invalid syntax\n"
          ]
        }
      ]
    },
    {
      "cell_type": "markdown",
      "metadata": {
        "id": "5nUnT7QHsox6"
      },
      "source": [
        "## 6. Make an `or` statement."
      ]
    },
    {
      "cell_type": "code",
      "metadata": {
        "id": "t3PMnYiEtRrk",
        "colab": {
          "base_uri": "https://localhost:8080/"
        },
        "outputId": "e58ecba1-fc44-4d28-b2c8-531a68f2f7bb"
      },
      "source": [
        "###Check value within range or at least one parameter\n",
        "x = 5\n",
        "x > 10 or x < 6"
      ],
      "execution_count": null,
      "outputs": [
        {
          "output_type": "execute_result",
          "data": {
            "text/plain": [
              "True"
            ]
          },
          "metadata": {},
          "execution_count": 103
        }
      ]
    },
    {
      "cell_type": "markdown",
      "metadata": {
        "id": "v0NnDxMoMUr0"
      },
      "source": [
        "## 7. Make a list and confirm if a string is part of that list."
      ]
    },
    {
      "cell_type": "code",
      "metadata": {
        "id": "l_VTWdHVMT81",
        "colab": {
          "base_uri": "https://localhost:8080/"
        },
        "outputId": "3e6950ee-3a9e-49c7-a684-c75f453668bb"
      },
      "source": [
        "###Confirm str is part of list\n",
        "myList = ['apple', 'orange', 'banana']\n",
        "if 'apple' in myList:\n",
        "  print(\"An apple a day, Will keep the doctor away\")\n",
        "\n"
      ],
      "execution_count": null,
      "outputs": [
        {
          "output_type": "stream",
          "name": "stdout",
          "text": [
            "An apple a day, Will keep the doctor away\n"
          ]
        }
      ]
    },
    {
      "cell_type": "markdown",
      "metadata": {
        "id": "NT_iFkB-MWan"
      },
      "source": [
        "## 8. Did you like this unit? Combine two strings to give feedback on this unit."
      ]
    },
    {
      "cell_type": "code",
      "metadata": {
        "id": "TThV3EfpMWvB",
        "colab": {
          "base_uri": "https://localhost:8080/",
          "height": 36
        },
        "outputId": "6289f8dc-57fd-40f3-f663-a48c1bf95521"
      },
      "source": [
        "a= \"At all seems so\"\n",
        "b= \" \"\n",
        "c= \"logical!\"\n",
        "a + b + c"
      ],
      "execution_count": null,
      "outputs": [
        {
          "output_type": "execute_result",
          "data": {
            "text/plain": [
              "'At all seems so logical!'"
            ],
            "application/vnd.google.colaboratory.intrinsic+json": {
              "type": "string"
            }
          },
          "metadata": {},
          "execution_count": 130
        }
      ]
    },
    {
      "cell_type": "markdown",
      "metadata": {
        "id": "m3N5THK1MXFG"
      },
      "source": [
        "## 9. Try and generate an error by combining non-compatible data types."
      ]
    },
    {
      "cell_type": "code",
      "metadata": {
        "id": "n3m-RLXkMXQA",
        "colab": {
          "base_uri": "https://localhost:8080/",
          "height": 165
        },
        "outputId": "ec722883-ce3d-4382-d9df-b37920e16b19"
      },
      "source": [
        "a + b + c + 3.14"
      ],
      "execution_count": null,
      "outputs": [
        {
          "output_type": "error",
          "ename": "TypeError",
          "evalue": "ignored",
          "traceback": [
            "\u001b[0;31m---------------------------------------------------------------------------\u001b[0m",
            "\u001b[0;31mTypeError\u001b[0m                                 Traceback (most recent call last)",
            "\u001b[0;32m<ipython-input-131-44e8d0bf5979>\u001b[0m in \u001b[0;36m<module>\u001b[0;34m()\u001b[0m\n\u001b[0;32m----> 1\u001b[0;31m \u001b[0ma\u001b[0m \u001b[0;34m+\u001b[0m \u001b[0mb\u001b[0m \u001b[0;34m+\u001b[0m \u001b[0mc\u001b[0m \u001b[0;34m+\u001b[0m \u001b[0;36m3.14\u001b[0m\u001b[0;34m\u001b[0m\u001b[0;34m\u001b[0m\u001b[0m\n\u001b[0m",
            "\u001b[0;31mTypeError\u001b[0m: can only concatenate str (not \"float\") to str"
          ]
        }
      ]
    },
    {
      "cell_type": "markdown",
      "metadata": {
        "id": "ffYKCCsiMXbc"
      },
      "source": [
        "## 10. Confirm a number is an integer. "
      ]
    },
    {
      "cell_type": "code",
      "metadata": {
        "id": "HAx_qI5OMXru",
        "colab": {
          "base_uri": "https://localhost:8080/"
        },
        "outputId": "fdf08dc3-12b3-47fe-e066-f30c377b510c"
      },
      "source": [
        "x = 5\n",
        "print(type(x))\n"
      ],
      "execution_count": null,
      "outputs": [
        {
          "output_type": "stream",
          "name": "stdout",
          "text": [
            "<class 'int'>\n"
          ]
        }
      ]
    },
    {
      "cell_type": "markdown",
      "metadata": {
        "id": "IXN9yr_LtSYT"
      },
      "source": [
        "# Thanks, see you in the next unit!"
      ]
    }
  ]
}