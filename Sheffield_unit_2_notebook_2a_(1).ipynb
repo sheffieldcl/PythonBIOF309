{
  "nbformat": 4,
  "nbformat_minor": 0,
  "metadata": {
    "colab": {
      "name": "Copy of SaraB_unit_2_notebook_2a (1).ipynb",
      "provenance": [],
      "collapsed_sections": [],
      "include_colab_link": true
    },
    "kernelspec": {
      "name": "python3",
      "display_name": "Python 3"
    }
  },
  "cells": [
    {
      "cell_type": "markdown",
      "metadata": {
        "id": "view-in-github",
        "colab_type": "text"
      },
      "source": [
        "<a href=\"https://colab.research.google.com/github/sheffieldcl/PythonBIOF309/blob/main/Sheffield_unit_2_notebook_2a_(1).ipynb\" target=\"_parent\"><img src=\"https://colab.research.google.com/assets/colab-badge.svg\" alt=\"Open In Colab\"/></a>"
      ]
    },
    {
      "cell_type": "markdown",
      "metadata": {
        "id": "lwuTCUVlJeY6"
      },
      "source": [
        "# Unit 2 - Instructional DEMO 2a: Python syntax\n",
        " - **Focus:**  Basic python syntax. \n",
        " - **Author(s):** Sara B-C.\n",
        " - **Date Notebook Last Modified:** 08.10.2020\n",
        " - **Quick Description:** Use this notebook to learn python syntax. In the beginning, just hit play at each cell and watch things work. Once you are done, you can download the finished results. **There are some exercises to complete at the end!**\n",
        "\n",
        "---\n",
        "## Code outline\n",
        "  0. Set up file stream (yep, this is in every notebook).\n",
        "  1. Comment versus docstring.\n",
        "  2. One statement versus multiple statements.\n",
        "  3. Indentations matter.   \n",
        "  4. An intro to multiple indents.\n",
        "  5. Parentheses.\n",
        "  6. Brackets.\n",
        "  7. A quick intro to \"dots\" or `.`.\n",
        "  8. Keywords.\n",
        "\n",
        "---\n",
        "## Additional notes\n",
        "*   Lists, dictionaries and tuples can get really confusing early on and will be covered later."
      ]
    },
    {
      "cell_type": "code",
      "source": [
        "from google.colab import drive\n",
        "drive.mount('/content/drive')"
      ],
      "metadata": {
        "id": "7iNhN5ndD6QC"
      },
      "execution_count": null,
      "outputs": []
    },
    {
      "cell_type": "code",
      "source": [
        ""
      ],
      "metadata": {
        "id": "Q_vQdFbSDaLs"
      },
      "execution_count": null,
      "outputs": []
    },
    {
      "cell_type": "markdown",
      "metadata": {
        "id": "XuUnubnFH9xZ"
      },
      "source": [
        "## 0. Lets set up filestream access\n",
        "Follow the directions on screen as you run the code cell below and then you can access the data stored on your 'My Drive'. For many of you, this is the first python code you will ever execute knowingly, as most google infrastructure is python based (another reason why the language is growing)You did this before, let's go!"
      ]
    },
    {
      "cell_type": "code",
      "metadata": {
        "id": "D2qRSmw3GUNA",
        "colab": {
          "base_uri": "https://localhost:8080/"
        },
        "outputId": "cde24789-d766-4214-a05c-c9cf153771ec"
      },
      "source": [
        "import os\n",
        "from google.colab import drive\n",
        "drive.mount('/content/drive/')\n",
        "os.chdir(\"/content/drive/My Drive/FAES_BIOF309/\")"
      ],
      "execution_count": null,
      "outputs": [
        {
          "output_type": "stream",
          "name": "stdout",
          "text": [
            "Mounted at /content/drive/\n"
          ]
        }
      ]
    },
    {
      "cell_type": "markdown",
      "metadata": {
        "id": "mITVzECaO2j6"
      },
      "source": [
        "Above you should now see the output \"Mounted at /content/drive/\". This means your storage is now connected to your notebook and its runtime. A runtime is the computer it will use to execute code and other computations. We'll cover what the above code means once you have learned some more python."
      ]
    },
    {
      "cell_type": "markdown",
      "metadata": {
        "id": "GD8TX9ZoUxd5"
      },
      "source": [
        "## 1. Comment versus docstring.\n"
      ]
    },
    {
      "cell_type": "markdown",
      "metadata": {
        "id": "Kr7a5kT9VeZX"
      },
      "source": [
        "How about 4 cells ...  \n",
        "First a block comment.  \n",
        "Second an inline comment.  \n",
        "Third a multiline string (the precursor to more advanced code like docstrings)."
      ]
    },
    {
      "cell_type": "code",
      "metadata": {
        "id": "RHliNCrvVAkc"
      },
      "source": [
        "# print(\"Hello class!\")\n",
        "# prints the message hello class\n",
        "print(\"Hello class!\")"
      ],
      "execution_count": null,
      "outputs": []
    },
    {
      "cell_type": "code",
      "metadata": {
        "id": "DN_68HD7WEqG",
        "colab": {
          "base_uri": "https://localhost:8080/"
        },
        "outputId": "2eb982c7-a522-4592-ced2-53ccfea093c0"
      },
      "source": [
        "print(\"Hello class!\") # print(\"Hello class!\") prints the message hello class"
      ],
      "execution_count": null,
      "outputs": [
        {
          "output_type": "stream",
          "name": "stdout",
          "text": [
            "Hello class!\n"
          ]
        }
      ]
    },
    {
      "cell_type": "code",
      "metadata": {
        "id": "hMtpreWQXu0N",
        "colab": {
          "base_uri": "https://localhost:8080/",
          "height": 36
        },
        "outputId": "27893740-bb7c-42a9-d123-f85a98e02861"
      },
      "source": [
        "\"\"\"Strings are cool.\"\"\""
      ],
      "execution_count": null,
      "outputs": [
        {
          "output_type": "execute_result",
          "data": {
            "text/plain": [
              "'Strings are cool.'"
            ],
            "application/vnd.google.colaboratory.intrinsic+json": {
              "type": "string"
            }
          },
          "metadata": {},
          "execution_count": 3
        }
      ]
    },
    {
      "cell_type": "code",
      "metadata": {
        "id": "rB-rBs8eWE1U",
        "colab": {
          "base_uri": "https://localhost:8080/",
          "height": 53
        },
        "outputId": "9c5fc24c-633a-491c-9415-01b6501cd445"
      },
      "source": [
        "\"\"\"Sometimes you need a few lines to describe something.\n",
        "Maybe even an empty line.\n",
        "\n",
        "You can end a multiline docstring/string on a new line with quotes like below as per the PEP8 style guide.\n",
        "\"\"\""
      ],
      "execution_count": null,
      "outputs": [
        {
          "output_type": "execute_result",
          "data": {
            "text/plain": [
              "'Sometimes you need a few lines to describe something.\\nMaybe even an empty line.\\n\\nYou can end a multiline docstring/string on a new line with quotes like below as per the PEP8 style guide.\\n'"
            ],
            "application/vnd.google.colaboratory.intrinsic+json": {
              "type": "string"
            }
          },
          "metadata": {},
          "execution_count": 4
        }
      ]
    },
    {
      "cell_type": "markdown",
      "metadata": {
        "id": "cIO-6lW3aMhn"
      },
      "source": [
        "## 2. One statement versus multiple statements.\n",
        "\n",
        "You have already experienced this but a codeblock can have one line to execute a single command in python, or it can have multiple.  \n",
        "Or you can have one statement spread across multiple lines.\n",
        "The use of whitespace (lack of indents) and returns keeps them separate.  \n",
        "As a note, backslashes, parentheses, brackets and braces can be used to explicitly continue statements across lines. "
      ]
    },
    {
      "cell_type": "code",
      "metadata": {
        "id": "jnT8f_uefYCK",
        "colab": {
          "base_uri": "https://localhost:8080/"
        },
        "outputId": "1d1d9429-4475-4833-96dd-67b5f61cb074"
      },
      "source": [
        "print(\"This is a single statement\")"
      ],
      "execution_count": null,
      "outputs": [
        {
          "output_type": "stream",
          "name": "stdout",
          "text": [
            "This is a single statement\n"
          ]
        }
      ]
    },
    {
      "cell_type": "code",
      "metadata": {
        "id": "IWoHPolsYN1b",
        "colab": {
          "base_uri": "https://localhost:8080/"
        },
        "outputId": "243d4ef8-34b1-4809-af7f-c67da4246e2d"
      },
      "source": [
        "print(\"This is the first statement\")\n",
        "print(\"This is the second statement\")"
      ],
      "execution_count": null,
      "outputs": [
        {
          "output_type": "stream",
          "name": "stdout",
          "text": [
            "This is the first statement\n",
            "This is the second statement\n"
          ]
        }
      ]
    },
    {
      "cell_type": "code",
      "metadata": {
        "id": "O7knwXReM_Wm",
        "colab": {
          "base_uri": "https://localhost:8080/"
        },
        "outputId": "51627ed6-b93e-4cf0-a9d4-92f9bd3a0de2"
      },
      "source": [
        "print(\"This is the first statement\");print(\"This is the second statement\")"
      ],
      "execution_count": null,
      "outputs": [
        {
          "output_type": "stream",
          "name": "stdout",
          "text": [
            "This is the first statement\n",
            "This is the second statement\n"
          ]
        }
      ]
    },
    {
      "cell_type": "code",
      "metadata": {
        "id": "72OFYZIxac5R",
        "colab": {
          "base_uri": "https://localhost:8080/"
        },
        "outputId": "f9f25786-f1f3-4002-fee8-d57d19b76665"
      },
      "source": [
        "a = 1 + 2 + 3 + \\\n",
        "2 + 10\n",
        "print(a) # This should equal 18"
      ],
      "execution_count": null,
      "outputs": [
        {
          "output_type": "stream",
          "name": "stdout",
          "text": [
            "18\n"
          ]
        }
      ]
    },
    {
      "cell_type": "code",
      "metadata": {
        "id": "h3I1C357nHga",
        "colab": {
          "base_uri": "https://localhost:8080/"
        },
        "outputId": "e4427b1e-3de6-4c12-de1f-55a0bd346ea5"
      },
      "source": [
        "a = (1 + 2 + 3 + \n",
        "2 + 10)\n",
        "print(a) # This should equal 18"
      ],
      "execution_count": null,
      "outputs": [
        {
          "output_type": "stream",
          "name": "stdout",
          "text": [
            "18\n"
          ]
        }
      ]
    },
    {
      "cell_type": "markdown",
      "metadata": {
        "id": "POhPV15zi9ZO"
      },
      "source": [
        "## 3. Indentations matter.\n",
        "A preview of future lessons.  \n",
        "After a `:`, indents denote a new command.  \n",
        "4 spaces are generally preferred to `tab`."
      ]
    },
    {
      "cell_type": "code",
      "metadata": {
        "id": "S87iYItTjMeS",
        "colab": {
          "base_uri": "https://localhost:8080/"
        },
        "outputId": "d86e60a0-8e59-4c2c-df92-47af023ed542"
      },
      "source": [
        "for i in range(0,11):\n",
        "    print(i)"
      ],
      "execution_count": null,
      "outputs": [
        {
          "output_type": "stream",
          "name": "stdout",
          "text": [
            "0\n",
            "1\n",
            "2\n",
            "3\n",
            "4\n",
            "5\n",
            "6\n",
            "7\n",
            "8\n",
            "9\n",
            "10\n"
          ]
        }
      ]
    },
    {
      "cell_type": "markdown",
      "metadata": {
        "id": "JCZ1RMiWkW_3"
      },
      "source": [
        "## 4. An intro to multiple indents.\n",
        "This is when things get complicated and proper use of whitespace matters.  \n",
        "Write consistent code.  "
      ]
    },
    {
      "cell_type": "code",
      "metadata": {
        "id": "8JqRitFFcVIV",
        "colab": {
          "base_uri": "https://localhost:8080/"
        },
        "outputId": "8a66a50a-8c21-4db4-e761-03187d29372b"
      },
      "source": [
        "for i in ['dog', 'cat', 'monkey']:\n",
        "  for j in ['cute', 'nice', 'fun']:\n",
        "    print(i + \" is \" + j)"
      ],
      "execution_count": null,
      "outputs": [
        {
          "output_type": "stream",
          "name": "stdout",
          "text": [
            "dog is cute\n",
            "dog is nice\n",
            "dog is fun\n",
            "cat is cute\n",
            "cat is nice\n",
            "cat is fun\n",
            "monkey is cute\n",
            "monkey is nice\n",
            "monkey is fun\n"
          ]
        }
      ]
    },
    {
      "cell_type": "markdown",
      "metadata": {
        "id": "dk_AdyrqnhO8"
      },
      "source": [
        "## 5. Parentheses.\n",
        "This is where you specify options and arguments for functions.\n",
        "Great summaries from the[ PEP8 style guide](https://www.python.org/dev/peps/pep-0008/#comments).\n",
        "**Don't bother hitting play in the two cells below, we'll go in more detail when we get to functions**"
      ]
    },
    {
      "cell_type": "code",
      "metadata": {
        "id": "LDXWIAylnvJz",
        "colab": {
          "base_uri": "https://localhost:8080/",
          "height": 235
        },
        "outputId": "b845c55c-ed73-4835-c26d-b11a79875831"
      },
      "source": [
        "# Correct ways to use parentheses:\n",
        "\n",
        "# Simple\n",
        "foo = long_function_name(var_one, var_two, var_three, var_four)\n",
        "\n",
        "# Aligned with opening delimiter.\n",
        "foo = long_function_name(var_one, var_two,\n",
        "                         var_three, var_four)\n",
        "\n",
        "# Add 8 spaces (an extra level of indentation) to distinguish arguments from the rest.\n",
        "def long_function_name(\n",
        "        var_one, var_two, var_three,\n",
        "        var_four):\n",
        "    print(var_one)\n",
        "\n",
        "# Hanging indents should add a level.\n",
        "foo = long_function_name(\n",
        "    var_one, var_two,\n",
        "    var_three, var_four)"
      ],
      "execution_count": null,
      "outputs": [
        {
          "output_type": "error",
          "ename": "NameError",
          "evalue": "ignored",
          "traceback": [
            "\u001b[0;31m---------------------------------------------------------------------------\u001b[0m",
            "\u001b[0;31mNameError\u001b[0m                                 Traceback (most recent call last)",
            "\u001b[0;32m<ipython-input-12-112fed569a70>\u001b[0m in \u001b[0;36m<module>\u001b[0;34m()\u001b[0m\n\u001b[1;32m      2\u001b[0m \u001b[0;34m\u001b[0m\u001b[0m\n\u001b[1;32m      3\u001b[0m \u001b[0;31m# Simple\u001b[0m\u001b[0;34m\u001b[0m\u001b[0;34m\u001b[0m\u001b[0;34m\u001b[0m\u001b[0m\n\u001b[0;32m----> 4\u001b[0;31m \u001b[0mfoo\u001b[0m \u001b[0;34m=\u001b[0m \u001b[0mlong_function_name\u001b[0m\u001b[0;34m(\u001b[0m\u001b[0mvar_one\u001b[0m\u001b[0;34m,\u001b[0m \u001b[0mvar_two\u001b[0m\u001b[0;34m,\u001b[0m \u001b[0mvar_three\u001b[0m\u001b[0;34m,\u001b[0m \u001b[0mvar_four\u001b[0m\u001b[0;34m)\u001b[0m\u001b[0;34m\u001b[0m\u001b[0;34m\u001b[0m\u001b[0m\n\u001b[0m\u001b[1;32m      5\u001b[0m \u001b[0;34m\u001b[0m\u001b[0m\n\u001b[1;32m      6\u001b[0m \u001b[0;31m# Aligned with opening delimiter.\u001b[0m\u001b[0;34m\u001b[0m\u001b[0;34m\u001b[0m\u001b[0;34m\u001b[0m\u001b[0m\n",
            "\u001b[0;31mNameError\u001b[0m: name 'long_function_name' is not defined"
          ]
        }
      ]
    },
    {
      "cell_type": "code",
      "metadata": {
        "id": "oiaYNlXFfr0W",
        "colab": {
          "base_uri": "https://localhost:8080/",
          "height": 235
        },
        "outputId": "6ed66b01-b4de-4b82-f6bb-1f7986e8d2cc"
      },
      "source": [
        "# Wrong ways to use parentheses:\n",
        "\n",
        "# Arguments on first line forbidden when not using vertical alignment.\n",
        "foo = long_function_name(var_one, var_two,\n",
        "    var_three, var_four)\n",
        "\n",
        "# Further indentation required as indentation is not distinguishable.\n",
        "def long_function_name(\n",
        "    var_one, var_two, var_three,\n",
        "    var_four):\n",
        "    print(var_one)"
      ],
      "execution_count": null,
      "outputs": [
        {
          "output_type": "error",
          "ename": "NameError",
          "evalue": "ignored",
          "traceback": [
            "\u001b[0;31m---------------------------------------------------------------------------\u001b[0m",
            "\u001b[0;31mNameError\u001b[0m                                 Traceback (most recent call last)",
            "\u001b[0;32m<ipython-input-13-6a90f3cf7e1a>\u001b[0m in \u001b[0;36m<module>\u001b[0;34m()\u001b[0m\n\u001b[1;32m      2\u001b[0m \u001b[0;34m\u001b[0m\u001b[0m\n\u001b[1;32m      3\u001b[0m \u001b[0;31m# Arguments on first line forbidden when not using vertical alignment.\u001b[0m\u001b[0;34m\u001b[0m\u001b[0;34m\u001b[0m\u001b[0;34m\u001b[0m\u001b[0m\n\u001b[0;32m----> 4\u001b[0;31m foo = long_function_name(var_one, var_two,\n\u001b[0m\u001b[1;32m      5\u001b[0m     var_three, var_four)\n\u001b[1;32m      6\u001b[0m \u001b[0;34m\u001b[0m\u001b[0m\n",
            "\u001b[0;31mNameError\u001b[0m: name 'long_function_name' is not defined"
          ]
        }
      ]
    },
    {
      "cell_type": "markdown",
      "metadata": {
        "id": "k_CjE9ogKnD3"
      },
      "source": [
        "## 6. Brackets.\n",
        "How else will you make a list?"
      ]
    },
    {
      "cell_type": "code",
      "metadata": {
        "id": "akMTAt0jLN2R",
        "colab": {
          "base_uri": "https://localhost:8080/"
        },
        "outputId": "db67b02c-6185-44e1-b656-f6a0064f8ab3"
      },
      "source": [
        "colors = ['red',\n",
        "          'blue',\n",
        "          'green']\n",
        "\n",
        "# Could also be colors = ['red', 'blue', 'green']\n",
        "\n",
        "# Print the elements of the list.\n",
        "print(colors)"
      ],
      "execution_count": null,
      "outputs": [
        {
          "output_type": "stream",
          "name": "stdout",
          "text": [
            "['red', 'blue', 'green']\n"
          ]
        }
      ]
    },
    {
      "cell_type": "markdown",
      "metadata": {
        "id": "pyawRj9_gxIK"
      },
      "source": [
        "Slightly more advanced example of things to come ... looping through lists."
      ]
    },
    {
      "cell_type": "code",
      "metadata": {
        "id": "v8qAJTZlgwxW",
        "colab": {
          "base_uri": "https://localhost:8080/"
        },
        "outputId": "ee58f082-877e-4254-f29c-aadaa62f3276"
      },
      "source": [
        "for i in colors:\n",
        "  print(i)"
      ],
      "execution_count": null,
      "outputs": [
        {
          "output_type": "stream",
          "name": "stdout",
          "text": [
            "red\n",
            "blue\n",
            "green\n"
          ]
        }
      ]
    },
    {
      "cell_type": "markdown",
      "metadata": {
        "id": "DY3hSrPZiDvV"
      },
      "source": [
        "We'll cover brackets in depth when we get to analyzing data, they are very important for pandas and similar tools."
      ]
    },
    {
      "cell_type": "markdown",
      "metadata": {
        "id": "RvZ1wUpoNnZ-"
      },
      "source": [
        "## 7. A quick intro to \"dots\" or `.`.\n",
        "Dot notation means to tell python look inside that object. Remember python is an object oriented language, so almost any \"word\" is also an object that can contain something useful.  \n",
        "Dots help you access the contents of objects, packages, modules, etc. "
      ]
    },
    {
      "cell_type": "code",
      "metadata": {
        "id": "i7smJIMsN0r_"
      },
      "source": [
        "class Book:\n",
        "    def __init__(self, title, author):\n",
        "        self.title = title\n",
        "        self.author = author\n",
        "\n",
        "awesome_book = Book(title=\"The Stand\", author=\"Stephen King\")"
      ],
      "execution_count": null,
      "outputs": []
    },
    {
      "cell_type": "markdown",
      "metadata": {
        "id": "0IOCREsulI97"
      },
      "source": [
        "Here we built a class object called `Book` (the concept of class is a bit advanced, but its good that you know it exists). In general, a class is just an object with defined attributes. When defining (`def`) a class you initialize (`__init__`) its attribute values within itself (`self()`). It has the attributes `title` and `author`. Let's use dot to find the content of the `author` attribute using the `.`! "
      ]
    },
    {
      "cell_type": "code",
      "metadata": {
        "id": "btZy1oMxlsac",
        "colab": {
          "base_uri": "https://localhost:8080/",
          "height": 36
        },
        "outputId": "286ab240-19aa-4dc9-800b-e383cf252de4"
      },
      "source": [
        "awesome_book.author"
      ],
      "execution_count": null,
      "outputs": [
        {
          "output_type": "execute_result",
          "data": {
            "text/plain": [
              "'Stephen King'"
            ],
            "application/vnd.google.colaboratory.intrinsic+json": {
              "type": "string"
            }
          },
          "metadata": {},
          "execution_count": 17
        }
      ]
    },
    {
      "cell_type": "markdown",
      "metadata": {
        "id": "VpSIwc4eTaBb"
      },
      "source": [
        "## 8. Keywords.\n",
        "To put it simply, there are some words that can't be made objects."
      ]
    },
    {
      "cell_type": "code",
      "metadata": {
        "id": "J9JZWaN3TaYO",
        "colab": {
          "base_uri": "https://localhost:8080/"
        },
        "outputId": "665c9869-0071-44e5-9496-704b1dd1779e"
      },
      "source": [
        "import keyword\n",
        "print(keyword.kwlist)"
      ],
      "execution_count": null,
      "outputs": [
        {
          "output_type": "stream",
          "name": "stdout",
          "text": [
            "['False', 'None', 'True', 'and', 'as', 'assert', 'async', 'await', 'break', 'class', 'continue', 'def', 'del', 'elif', 'else', 'except', 'finally', 'for', 'from', 'global', 'if', 'import', 'in', 'is', 'lambda', 'nonlocal', 'not', 'or', 'pass', 'raise', 'return', 'try', 'while', 'with', 'yield']\n"
          ]
        }
      ]
    },
    {
      "cell_type": "markdown",
      "metadata": {
        "id": "p_oU-yokpSTX"
      },
      "source": [
        "**Makes sense, now on to some exercises ...**"
      ]
    },
    {
      "cell_type": "markdown",
      "metadata": {
        "id": "GvJ8ZwG7pn0K"
      },
      "source": [
        "# Unit 2: Assignment # 2a\n",
        "***Come here to prove your knowledge.***\n",
        "\n",
        "Text cells will indicate a task.  \n",
        "Write your commands in the empty code cells below them."
      ]
    },
    {
      "cell_type": "markdown",
      "metadata": {
        "id": "wxbBn9dRqUzJ"
      },
      "source": [
        "## 1. Write an inline comment."
      ]
    },
    {
      "cell_type": "code",
      "metadata": {
        "id": "ELzciBM8qVKJ"
      },
      "source": [
        "print (\"Python is fun!\") #Express feeling re: Python"
      ],
      "execution_count": null,
      "outputs": []
    },
    {
      "cell_type": "markdown",
      "metadata": {
        "id": "2aYrQJ3sqeyY"
      },
      "source": [
        "## 2. Write a docstring"
      ]
    },
    {
      "cell_type": "code",
      "metadata": {
        "id": "9IqnLYX9q1_f",
        "colab": {
          "base_uri": "https://localhost:8080/"
        },
        "outputId": "0d8c8e74-3a99-4966-c9d9-8e02d1962ac0"
      },
      "source": [
        "\"\"\"Write a doc string\"\"\"\n",
        "print (\"Doc strings help users, including your future self to know what the code is intended to do.\")\n"
      ],
      "execution_count": null,
      "outputs": [
        {
          "output_type": "stream",
          "name": "stdout",
          "text": [
            "Doc strings help users, including your future self to know what the code is intended to do.\n"
          ]
        }
      ]
    },
    {
      "cell_type": "markdown",
      "metadata": {
        "id": "8jmiJDlcq2wa"
      },
      "source": [
        "## 3. Tell me something positive in a multiline string."
      ]
    },
    {
      "cell_type": "code",
      "metadata": {
        "id": "FOBJ2pQdrJu-",
        "colab": {
          "base_uri": "https://localhost:8080/"
        },
        "outputId": "481277b9-b2b6-4858-8dc1-0ccba869f791"
      },
      "source": [
        "a = \"Multiline strings enable nesting of logic statements\"\n",
        "b = \" & \"\n",
        "c = \"they enable earier reading within the code.\"\n",
        "print (a + b + c)\n"
      ],
      "execution_count": null,
      "outputs": [
        {
          "output_type": "stream",
          "name": "stdout",
          "text": [
            "Multiline strings enable nesting of logic statements & they enable earier reading within the code.\n"
          ]
        }
      ]
    },
    {
      "cell_type": "markdown",
      "metadata": {
        "id": "Z1Ma26-wrLhL"
      },
      "source": [
        "## 4. Make a list of your three favorite colors."
      ]
    },
    {
      "cell_type": "code",
      "metadata": {
        "id": "rNgJSh9PsAp0"
      },
      "source": [
        "FavColors = ['blue', 'yellow', 'green']"
      ],
      "execution_count": null,
      "outputs": []
    },
    {
      "cell_type": "markdown",
      "metadata": {
        "id": "HK1bZqF5sBSC"
      },
      "source": [
        "## 5. Find the title of `awesome_book` in the dot notation example."
      ]
    },
    {
      "cell_type": "code",
      "metadata": {
        "id": "r8u8qObJsoc1",
        "colab": {
          "base_uri": "https://localhost:8080/",
          "height": 36
        },
        "outputId": "3ab72ad2-df9b-4c8a-daef-c73ca0f817fb"
      },
      "source": [
        "awesome_book.title"
      ],
      "execution_count": null,
      "outputs": [
        {
          "output_type": "execute_result",
          "data": {
            "text/plain": [
              "'The Stand'"
            ],
            "application/vnd.google.colaboratory.intrinsic+json": {
              "type": "string"
            }
          },
          "metadata": {},
          "execution_count": 33
        }
      ]
    },
    {
      "cell_type": "markdown",
      "metadata": {
        "id": "5nUnT7QHsox6"
      },
      "source": [
        "## 6. Make a \"dummy\" code cell that uses a `:` and `whitespace` correctly.  \n",
        "Concentrate on syntax and not if it actually does anything.  \n",
        "Form over function for today."
      ]
    },
    {
      "cell_type": "code",
      "metadata": {
        "id": "t3PMnYiEtRrk",
        "colab": {
          "base_uri": "https://localhost:8080/"
        },
        "outputId": "3a0df415-d257-40fb-91a0-15206cbce87a"
      },
      "source": [
        "a=1\n",
        "b=2\n",
        "if a+b < 5: \n",
        "  print (a+b)"
      ],
      "execution_count": null,
      "outputs": [
        {
          "output_type": "stream",
          "name": "stdout",
          "text": [
            "3\n"
          ]
        }
      ]
    },
    {
      "cell_type": "markdown",
      "metadata": {
        "id": "v0NnDxMoMUr0"
      },
      "source": [
        "## 7. Similar to above, show a code cell that includes multiple levels of indents.\n",
        "Concentrate on syntax and not if it actually does anything.  \n",
        "Form over function for today."
      ]
    },
    {
      "cell_type": "code",
      "metadata": {
        "id": "l_VTWdHVMT81",
        "colab": {
          "base_uri": "https://localhost:8080/"
        },
        "outputId": "c3941a37-7a31-4eeb-f1d4-8be78212b3c6"
      },
      "source": [
        "for flavor in ['peanut butter', 'chocolate', 'carmel']:\n",
        "  for value in ['sweet', 'yummy', 'delish']:\n",
        "    print(flavor + \" is \" + value)"
      ],
      "execution_count": null,
      "outputs": [
        {
          "output_type": "stream",
          "name": "stdout",
          "text": [
            "peanut butter is sweet\n",
            "peanut butter is yummy\n",
            "peanut butter is delish\n",
            "chocolate is sweet\n",
            "chocolate is yummy\n",
            "chocolate is delish\n",
            "carmel is sweet\n",
            "carmel is yummy\n",
            "carmel is delish\n"
          ]
        }
      ]
    },
    {
      "cell_type": "markdown",
      "metadata": {
        "id": "NT_iFkB-MWan"
      },
      "source": [
        "## 8. Based on the examples above, make a list then print its contents."
      ]
    },
    {
      "cell_type": "code",
      "metadata": {
        "id": "TThV3EfpMWvB",
        "colab": {
          "base_uri": "https://localhost:8080/"
        },
        "outputId": "9cfd92ca-7856-4171-956b-b4c48d5e6242"
      },
      "source": [
        "myColors=['red', 'green', 'blue', 'pink', 'purple']\n",
        "print (myColors)"
      ],
      "execution_count": null,
      "outputs": [
        {
          "output_type": "stream",
          "name": "stdout",
          "text": [
            "['red', 'green', 'blue', 'pink', 'purple']\n"
          ]
        }
      ]
    },
    {
      "cell_type": "markdown",
      "metadata": {
        "id": "m3N5THK1MXFG"
      },
      "source": [
        "## 9. Type five reserved words"
      ]
    },
    {
      "cell_type": "code",
      "metadata": {
        "id": "RtecI070qZI3",
        "colab": {
          "base_uri": "https://localhost:8080/"
        },
        "outputId": "598d5145-59d5-40d8-c062-5516ff22b325"
      },
      "source": [
        "import keyword\n",
        "print (keyword.kwlist)\n",
        "N=5\n",
        "ListofFive = keyword.kwlist[:N]\n",
        "print (ListofFive)"
      ],
      "execution_count": null,
      "outputs": [
        {
          "output_type": "stream",
          "name": "stdout",
          "text": [
            "['False', 'None', 'True', 'and', 'as', 'assert', 'async', 'await', 'break', 'class', 'continue', 'def', 'del', 'elif', 'else', 'except', 'finally', 'for', 'from', 'global', 'if', 'import', 'in', 'is', 'lambda', 'nonlocal', 'not', 'or', 'pass', 'raise', 'return', 'try', 'while', 'with', 'yield']\n",
            "['False', 'None', 'True', 'and', 'as']\n"
          ]
        }
      ]
    },
    {
      "cell_type": "markdown",
      "metadata": {
        "id": "ffYKCCsiMXbc"
      },
      "source": [
        "## 10. Print the words `python` and `syntax` in the cell below with an empty line between them."
      ]
    },
    {
      "cell_type": "code",
      "metadata": {
        "id": "HAx_qI5OMXru",
        "colab": {
          "base_uri": "https://localhost:8080/"
        },
        "outputId": "89728b39-45bb-4a4c-a5b1-bab1053d98cf"
      },
      "source": [
        "print('python', \"\\n\"\"\\n\" 'syntax')"
      ],
      "execution_count": null,
      "outputs": [
        {
          "output_type": "stream",
          "name": "stdout",
          "text": [
            "python \n",
            "\n",
            "syntax\n"
          ]
        }
      ]
    },
    {
      "cell_type": "markdown",
      "metadata": {
        "id": "IXN9yr_LtSYT"
      },
      "source": [
        "# Thanks, see you soon!"
      ]
    }
  ]
}